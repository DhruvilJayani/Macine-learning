{
 "cells": [
  {
   "cell_type": "code",
   "execution_count": null,
   "metadata": {},
   "outputs": [],
   "source": [
    "Name = input('What is your name : ')\n",
    "\n",
    "print(Name[::-1])"
   ]
  },
  {
   "cell_type": "code",
   "execution_count": null,
   "metadata": {},
   "outputs": [],
   "source": [
    "\n",
    "def sre(x):\n",
    "    for i in range(1,(2*x-1)):\n",
    "      \n",
    "       \n",
    "        if i<x:\n",
    "            j=i\n",
    "        else:\n",
    "            j=x-(i%x)\n",
    "        for k in range(1,j):  \n",
    "            print(\"*\",end='' )\n",
    "        print(\"\\r\")\n",
    "\n",
    "\n",
    "    \n",
    "    \n",
    "    \n",
    "number = int(input(\"How many Stars : \"))\n",
    "\n",
    "sre(number)\n",
    "    "
   ]
  },
  {
   "cell_type": "code",
   "execution_count": null,
   "metadata": {},
   "outputs": [],
   "source": []
  }
 ],
 "metadata": {
  "kernelspec": {
   "display_name": "Python 3",
   "language": "python",
   "name": "python3"
  },
  "language_info": {
   "codemirror_mode": {
    "name": "ipython",
    "version": 3
   },
   "file_extension": ".py",
   "mimetype": "text/x-python",
   "name": "python",
   "nbconvert_exporter": "python",
   "pygments_lexer": "ipython3",
   "version": "3.7.7"
  }
 },
 "nbformat": 4,
 "nbformat_minor": 4
}
